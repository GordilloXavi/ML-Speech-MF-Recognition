{
 "cells": [
  {
   "cell_type": "code",
   "execution_count": null,
   "metadata": {},
   "outputs": [],
   "source": [
    "# random forest classifier model\n",
    "import pandas as pd\n",
    "pd.options.display.max_columns = None\n",
    "import numpy as np\n",
    "from sklearn.ensemble import RandomForestClassifier\n",
    "from sklearn.model_selection import cross_val_score\n",
    "from sklearn.model_selection import train_test_split\n",
    "import matplotlib.pyplot as plt\n",
    "import seaborn as sns\n",
    "import cufflinks as cf\n",
    "\n",
    "# random forest classifier plots\n",
    "import plotly.plotly as py\n",
    "import plotly.graph_objs as go\n",
    "import pandas as pd\n",
    "\n",
    "# neural network model\n",
    "import keras\n",
    "import tensorflow as tf\n",
    "from keras.models import Sequential\n",
    "from keras.layers import Dense\n",
    "from keras import optimizers\n",
    "\n",
    "# neural network plots\n",
    "import matplotlib.pyplot as plt\n",
    "import pydot\n",
    "import pydotplus\n",
    "import graphviz\n",
    "from IPython.display import SVG\n",
    "from keras.utils.vis_utils import model_to_dot\n",
    "from ann_visualizer.visualize import ann_viz"
   ]
  },
  {
   "cell_type": "markdown",
   "metadata": {},
   "source": [
    "# Random Forest Classifier model"
   ]
  },
  {
   "cell_type": "code",
   "execution_count": null,
   "metadata": {},
   "outputs": [],
   "source": [
    "# load data and create data frame\n",
    "data = pd.read_csv('dataSet.csv')\n",
    "df = pd.DataFrame(data)\n",
    "\n",
    "# transform column label into numbers\n",
    "#     - male:   0\n",
    "#     - female: 1\n",
    "df.replace('male', 0, inplace=True)\n",
    "df.replace('female', 1, inplace=True)"
   ]
  },
  {
   "cell_type": "code",
   "execution_count": null,
   "metadata": {},
   "outputs": [],
   "source": [
    "# prepare training values:\n",
    "#     - x: what we know\n",
    "#     - y: what we want to know\n",
    "x = df.drop('label', axis=1)\n",
    "y = df['label']\n",
    "x_train, x_test, y_train, y_test = train_test_split(x, y, test_size=0.33)\n",
    "\n",
    "# create random fores classifier\n",
    "rfc = RandomForestClassifier(n_estimators=100)\n",
    "\n",
    "# train rfc\n",
    "rfc.fit(x_train, y_train)\n",
    "\n",
    "# print score\n",
    "score = rfc.score(x_test, y_test)\n",
    "print('{}%'.format(round(score*100, 2)))"
   ]
  },
  {
   "cell_type": "code",
   "execution_count": null,
   "metadata": {},
   "outputs": [],
   "source": [
    "# make predictions\n",
    "prediction = rfc.predict([[\n",
    "    0.2022728,\n",
    "    0.04060666,\n",
    "    0.2129694,\n",
    "    0.1821243,\n",
    "    0.227241,\n",
    "    0.04511674,\n",
    "    3.040879,\n",
    "    17.07277,\n",
    "    0.8827420,\n",
    "    0.2635666,\n",
    "    0.1200658,\n",
    "    0.2022728,\n",
    "    0.1497998,\n",
    "    0.04319295,\n",
    "    0.2791139,\n",
    "    0.3374789,\n",
    "    0,\n",
    "    1.593457,\n",
    "    1.593457,\n",
    "    0.11383929\n",
    "]])\n",
    "print(\"M\" if prediction[0]==0 else \"F\")"
   ]
  },
  {
   "cell_type": "markdown",
   "metadata": {},
   "source": [
    "# Random Forest Classifier plots"
   ]
  },
  {
   "cell_type": "markdown",
   "metadata": {},
   "source": [
    "### Plot de la meanfun (s'hauria de fer millor)"
   ]
  },
  {
   "cell_type": "code",
   "execution_count": null,
   "metadata": {},
   "outputs": [],
   "source": [
    "# meanfun, IQR, Q25, sp.ent\n",
    "male = df.query(\"label == '0'\")\n",
    "female = df.query(\"label == '1'\")\n",
    "x = male['meanfun']\n",
    "y = female['meanfun']\n",
    "df3 = pd.DataFrame({\n",
    "    'x': x,\n",
    "    'y': y,\n",
    "})\n",
    "df3.iplot(colorscale='rdylbu')"
   ]
  },
  {
   "cell_type": "markdown",
   "metadata": {},
   "source": [
    "### Epic Cloud 3D Plot"
   ]
  },
  {
   "cell_type": "code",
   "execution_count": null,
   "metadata": {},
   "outputs": [],
   "source": [
    "data = pd.read_csv('dataSet.csv')\n",
    "df = pd.DataFrame(data)\n",
    "df.replace('male', 0, inplace=True)\n",
    "df.replace('female', 1, inplace=True)\n",
    "\n",
    "data = []\n",
    "clusters = []\n",
    "colors = ['rgb(139,229,128)','rgb(255,184,122)']\n",
    "\n",
    "for i in range(len(df['label'].unique())):\n",
    "    name = df['label'].unique()[i]\n",
    "    color = colors[i]\n",
    "    x = df[df['label']==name]['meanfun']\n",
    "    y = df[df['label']==name]['IQR']\n",
    "    z = df[df['label']==name]['Q25']\n",
    "    trace = dict(\n",
    "        name=name,\n",
    "        x=x, y=y, z=z,\n",
    "        type = \"scatter3d\",    \n",
    "        mode = 'markers',\n",
    "        marker = dict(size=2, color=color, line=dict(width=0))\n",
    "    )\n",
    "    data.append(trace)\n",
    "\n",
    "layout = dict(\n",
    "    width=800,\n",
    "    height=550,\n",
    "    autosize=False,\n",
    "    title='Clouds'\n",
    ")\n",
    "\n",
    "fig = dict(data=data, layout=layout)\n",
    "\n",
    "py.iplot(fig, validate=False)"
   ]
  },
  {
   "cell_type": "markdown",
   "metadata": {},
   "source": [
    "# Neural network model"
   ]
  },
  {
   "cell_type": "code",
   "execution_count": null,
   "metadata": {},
   "outputs": [],
   "source": [
    "# create model\n",
    "model = Sequential()\n",
    "model.add(Dense(32, activation='softsign', input_dim=20))\n",
    "model.add(Dense(32, activation='softsign'))\n",
    "model.add(Dense(32, activation='softsign'))\n",
    "model.add(Dense(1, activation='sigmoid'))\n",
    "model.compile(optimizer='rmsprop', loss='binary_crossentropy', metrics=['accuracy'])\n",
    "\n",
    "# create training values\n",
    "df = pd.read_csv(\"dataSet.csv\")\n",
    "x = df.drop('label', axis=1).values\n",
    "df.replace('male',0, inplace=True)\n",
    "df.replace('female',1, inplace=True)\n",
    "c = df['label'].values\n",
    "\n",
    "# train and save training info so then we are able to plot cool stuff\n",
    "history = model.fit(x,c, epochs=100, batch_size=10, validation_data=(x_test, y_test))\n",
    "loss, acc = model.evaluate(x_test, y_test, batch_size=128)"
   ]
  },
  {
   "cell_type": "code",
   "execution_count": null,
   "metadata": {},
   "outputs": [],
   "source": [
    "# predict from values\n",
    "xnew = np.array([[0.1984445, 0.06684052, 0.2157356, 0.1375283, 0.264536, 0.1270077, 3.38914, 20.50335, 0.8929154, 0.3376926, 0.1200362, 0.1984445, 0.1396227, 0.04349112, 0.2791139, 0.4190832, 0, 5.081836, 5.081836, 0.07727807]])\n",
    "ynew = model.predict_classes(xnew)\n",
    "print(\"X=%s, Predicted=%s\" % (xnew[0], ynew[0]))"
   ]
  },
  {
   "cell_type": "markdown",
   "metadata": {},
   "source": [
    "# Neural network plots"
   ]
  },
  {
   "cell_type": "markdown",
   "metadata": {},
   "source": [
    "### Show layers"
   ]
  },
  {
   "cell_type": "code",
   "execution_count": null,
   "metadata": {},
   "outputs": [],
   "source": [
    "# show layer schema\n",
    "SVG(model_to_dot(model, show_shapes=True, show_layer_names=False).create(prog='dot', format='svg'))"
   ]
  },
  {
   "cell_type": "markdown",
   "metadata": {},
   "source": [
    "### Plot training/validation acuracy and loss values"
   ]
  },
  {
   "cell_type": "code",
   "execution_count": null,
   "metadata": {},
   "outputs": [],
   "source": [
    "# accuracy values\n",
    "plt.plot(history.history['acc'])\n",
    "plt.plot(history.history['val_acc'])\n",
    "plt.title('Model accuracy')\n",
    "plt.ylabel('Accuracy')\n",
    "plt.xlabel('Epoch')\n",
    "plt.legend(['Train', 'Test'], loc='upper left')\n",
    "plt.show()\n",
    "\n",
    "# loss values\n",
    "plt.plot(history.history['loss'])\n",
    "plt.plot(history.history['val_loss'])\n",
    "plt.title('Model loss')\n",
    "plt.ylabel('Loss')\n",
    "plt.xlabel('Epoch')\n",
    "plt.legend(['Train', 'Test'], loc='upper left')\n",
    "plt.show()"
   ]
  },
  {
   "cell_type": "markdown",
   "metadata": {},
   "source": [
    "### Plot connections"
   ]
  },
  {
   "cell_type": "code",
   "execution_count": null,
   "metadata": {},
   "outputs": [],
   "source": [
    "ann_viz(model, view=True, filename=\"network.gv\", title=\"Neural Network Connections\")"
   ]
  }
 ],
 "metadata": {
  "kernelspec": {
   "display_name": "Python 3",
   "language": "python",
   "name": "python3"
  },
  "language_info": {
   "codemirror_mode": {
    "name": "ipython",
    "version": 3
   },
   "file_extension": ".py",
   "mimetype": "text/x-python",
   "name": "python",
   "nbconvert_exporter": "python",
   "pygments_lexer": "ipython3",
   "version": "3.7.2"
  }
 },
 "nbformat": 4,
 "nbformat_minor": 2
}
