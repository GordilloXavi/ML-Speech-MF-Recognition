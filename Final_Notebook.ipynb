{
 "cells": [
  {
   "cell_type": "markdown",
   "metadata": {},
   "source": [
    "# Machine Learning project: gender recognition from speech"
   ]
  },
  {
   "cell_type": "markdown",
   "metadata": {},
   "source": [
    "The following acoustic properties of each voice are measured:\n",
    "- **duration**: length of signal <span style=\"color:red\">**NOT USED!!**</span>\n",
    "- **meanfreq**: mean frequency (in kHz)\n",
    "- **sd**: standard deviation of frequency\n",
    "- **median**: median frequency (in kHz)\n",
    "- **Q25**: first quantile (in kHz)\n",
    "- **Q75**: third quantile (in kHz)\n",
    "- **IQR**: interquantile range (in kHz)\n",
    "- **skew**: skewness (see note in specprop description)\n",
    "- **kurt**: kurtosis (see note in specprop description)\n",
    "- **sp.ent**: spectral entropy\n",
    "- **sfm**: spectral flatness\n",
    "- **mode**: mode frequency\n",
    "- **centroid**: frequency centroid (see specprop)\n",
    "- **peakf**: peak frequency (frequency with highest energy) <span style=\"color:red\">**NOT USED!!**</span>\n",
    "- **meanfun**: average of fundamental frequency measured across acoustic signal\n",
    "- **minfun**: minimum fundamental frequency measured across acoustic signal\n",
    "- **maxfun**: maximum fundamental frequency measured across acoustic signal\n",
    "- **meandom**: average of dominant frequency measured across acoustic signal\n",
    "- **mindom**: minimum of dominant frequency measured across acoustic signal\n",
    "- **maxdom**: maximum of dominant frequency measured across acoustic signal\n",
    "- **dfrange**: range of dominant frequency measured across acoustic signal\n",
    "- **modindx**: modulation index. Calculated as the accumulated absolute difference between adjacent measurements of fundamental frequencies divided by the frequency range"
   ]
  },
  {
   "cell_type": "code",
   "execution_count": null,
   "metadata": {},
   "outputs": [],
   "source": [
    "# pandas\n",
    "import pandas as pd\n",
    "pd.options.display.max_columns = None\n",
    "\n",
    "# sklearn\n",
    "from sklearn.ensemble import RandomForestClassifier\n",
    "from sklearn.model_selection import train_test_split\n",
    "from sklearn.model_selection import cross_val_score\n",
    "\n",
    "# pyplot\n",
    "import matplotlib.pyplot as plt\n",
    "\n",
    "# seaborn\n",
    "import seaborn as sns\n",
    "\n",
    "# numpy\n",
    "import numpy as np\n",
    "\n",
    "# avoid warnings\n",
    "import warnings\n",
    "warnings.filterwarnings('ignore')"
   ]
  },
  {
   "cell_type": "code",
   "execution_count": null,
   "metadata": {},
   "outputs": [],
   "source": [
    "# load data and create data frame\n",
    "data = pd.read_csv('dataSet.csv')\n",
    "df = pd.DataFrame(data)"
   ]
  },
  {
   "cell_type": "markdown",
   "metadata": {},
   "source": [
    "# Dataset analysis"
   ]
  },
  {
   "cell_type": "code",
   "execution_count": null,
   "metadata": {},
   "outputs": [],
   "source": [
    "# transform column label into numbers\n",
    "#     - male:   0\n",
    "#     - female: 1\n",
    "df.replace('male', 0, inplace=True)\n",
    "df.replace('female', 1, inplace=True)"
   ]
  },
  {
   "cell_type": "code",
   "execution_count": null,
   "metadata": {},
   "outputs": [],
   "source": [
    "# display data frame info\n",
    "print(df.info())"
   ]
  },
  {
   "cell_type": "code",
   "execution_count": null,
   "metadata": {},
   "outputs": [],
   "source": [
    "# display data frame\n",
    "df.head()"
   ]
  },
  {
   "cell_type": "code",
   "execution_count": null,
   "metadata": {},
   "outputs": [],
   "source": [
    "# prepare training values:\n",
    "#     - x: what we know\n",
    "#     - y: what we want to know\n",
    "x = df.drop('label', axis=1)\n",
    "y = df['label']\n",
    "x_train, x_test, y_train, y_test = train_test_split(x, y, test_size=0.33)"
   ]
  },
  {
   "cell_type": "code",
   "execution_count": null,
   "metadata": {},
   "outputs": [],
   "source": [
    "# create random fores classifier\n",
    "rfc = RandomForestClassifier(n_estimators=100)"
   ]
  },
  {
   "cell_type": "code",
   "execution_count": null,
   "metadata": {},
   "outputs": [],
   "source": [
    "# train rfc\n",
    "rfc.fit(x_train, y_train)\n",
    "\n",
    "# cross validate scores\n",
    "scores = cross_val_score(rfc, x, y, cv = 10)\n",
    "print('Accuracy:', round(scores.mean()*100,2), '%')"
   ]
  },
  {
   "cell_type": "code",
   "execution_count": null,
   "metadata": {},
   "outputs": [],
   "source": [
    "# make predictions (Female Data)\n",
    "prediction = rfc.predict([[\n",
    "    0.2022728,\n",
    "    0.04060666,\n",
    "    0.2129694,\n",
    "    0.1821243,\n",
    "    0.227241,\n",
    "    0.04511674,\n",
    "    3.040879,\n",
    "    17.07277,\n",
    "    0.8827420,\n",
    "    0.2635666,\n",
    "    0.1200658,\n",
    "    0.2022728,\n",
    "    0.1497998,\n",
    "    0.04319295,\n",
    "    0.2791139,\n",
    "    0.3374789,\n",
    "    0,\n",
    "    1.593457,\n",
    "    1.593457,\n",
    "    0.11383929\n",
    "]])\n",
    "\n",
    "print(\"Male\" if prediction[0]==0 else \"Female\")"
   ]
  },
  {
   "cell_type": "code",
   "execution_count": null,
   "metadata": {},
   "outputs": [],
   "source": [
    "# correlation Matrix\n",
    "\n",
    "plt.figure(figsize=(14,12))\n",
    "plt.title('Correlation Matrix')\n",
    "sns.heatmap(df.corr(), linewidths=0.1, annot=True)"
   ]
  },
  {
   "cell_type": "code",
   "execution_count": null,
   "metadata": {},
   "outputs": [],
   "source": [
    "# pairplot\n",
    "\n",
    "sns.pairplot(df)"
   ]
  },
  {
   "cell_type": "code",
   "execution_count": null,
   "metadata": {},
   "outputs": [],
   "source": [
    "# KDE plot\n",
    "\n",
    "sns.set(style=\"darkgrid\")\n",
    "male = df.query(\"label == '0'\")\n",
    "female = df.query(\"label == '1'\")\n",
    "\n",
    "# Set up the figure\n",
    "f, ax = plt.subplots(figsize=(8, 8))\n",
    "ax.set_aspect(\"equal\")\n",
    "\n",
    "# Draw the two density plots\n",
    "ax = sns.kdeplot(male.meanfun, male.IQR,\n",
    "                 cmap=\"Reds\", shade=True, shade_lowest=False)\n",
    "ax = sns.kdeplot(female.meanfun, female.IQR,\n",
    "                 cmap=\"Blues\", shade=True, shade_lowest=False)\n",
    "\n",
    "# Add labels to the plot\n",
    "red = sns.color_palette(\"Reds\")[-2]\n",
    "blue = sns.color_palette(\"Blues\")[-2]\n",
    "ax.text(0.2,0.07, \"Female\", size=16, color=blue)\n",
    "ax.text(0.05, 0.15,\"Male\", size=16, color=red)"
   ]
  },
  {
   "cell_type": "markdown",
   "metadata": {},
   "source": [
    "# Are the other classifiers more accurate than RandomForest?"
   ]
  },
  {
   "cell_type": "code",
   "execution_count": null,
   "metadata": {},
   "outputs": [],
   "source": [
    "from sklearn.model_selection import StratifiedShuffleSplit\n",
    "from sklearn.metrics import accuracy_score, log_loss\n",
    "from sklearn.neighbors import KNeighborsClassifier\n",
    "from sklearn.svm import SVC\n",
    "from sklearn.tree import DecisionTreeClassifier\n",
    "from sklearn.ensemble import RandomForestClassifier, AdaBoostClassifier, GradientBoostingClassifier\n",
    "from sklearn.naive_bayes import GaussianNB\n",
    "from sklearn.discriminant_analysis import LinearDiscriminantAnalysis, QuadraticDiscriminantAnalysis\n",
    "from sklearn.linear_model import LogisticRegression\n",
    "from sklearn.neural_network import MLPClassifier\n",
    "from sklearn.model_selection import cross_validate\n",
    "from sklearn.preprocessing import StandardScaler\n",
    "\n",
    "classifiers = [\n",
    "    KNeighborsClassifier(3),\n",
    "    SVC(probability=True, gamma='scale'),\n",
    "    DecisionTreeClassifier(),\n",
    "    RandomForestClassifier(n_estimators=100),\n",
    "    AdaBoostClassifier(),\n",
    "    GradientBoostingClassifier(),\n",
    "    GaussianNB(),\n",
    "    LinearDiscriminantAnalysis(),\n",
    "    QuadraticDiscriminantAnalysis(),\n",
    "    LogisticRegression(solver='lbfgs')]\n",
    "\n",
    "scores = []\n",
    "for clf in classifiers:\n",
    "    clf.fit(x_train, y_train)\n",
    "    cv_results = cross_validate(clf, x_test, y_test, cv=5, return_train_score=True)\n",
    "    scores.append(np.mean(cv_results['test_score']))\n",
    "    \n",
    "plt.figure(figsize=(10,8))\n",
    "plt.title('Scores Plot')\n",
    "sns.barplot(y=[n.__class__.__name__  for n in classifiers], x=scores)"
   ]
  },
  {
   "cell_type": "markdown",
   "metadata": {},
   "source": [
    "As we can see, there's no classifier significantly more accurate than RandomForest, but even if we will stick to that one, we will try to improve the SVC due to it's really poor performance"
   ]
  },
  {
   "cell_type": "markdown",
   "metadata": {},
   "source": [
    "# Modification of the SVC Parameter C"
   ]
  },
  {
   "cell_type": "code",
   "execution_count": null,
   "metadata": {},
   "outputs": [],
   "source": [
    "svc_class = [\n",
    "    \n",
    "    SVC(probability=True, gamma='scale'),\n",
    "    SVC(probability=True, C=1.5, gamma='scale'),\n",
    "    SVC(probability=True, C=200, gamma='scale'),\n",
    "    SVC(probability=True, C=500,gamma='scale'),\n",
    "    SVC(probability=True, C=1000,gamma='scale'),\n",
    "    SVC(probability=True, C=10000,gamma='scale'),\n",
    "    SVC(probability=True, C=100000,gamma='scale'),\n",
    "    SVC(probability=True, C=500000,gamma='scale'),\n",
    "]\n",
    "\n",
    "svc_scores = []\n",
    "for clf in svc_class:\n",
    "    clf.fit(x_train, y_train)\n",
    "    cv_results = cross_validate(clf, x_test, y_test, cv=5, return_train_score=True)\n",
    "    svc_scores.append(np.mean(cv_results['test_score']))\n",
    "    \n",
    "sns.barplot(x=[n for n in range(len(svc_class))],y=svc_scores).set(xlabel=\"C Parameter Changed\", ylabel=\"Accuracy\")"
   ]
  },
  {
   "cell_type": "markdown",
   "metadata": {},
   "source": [
    "# PCA"
   ]
  },
  {
   "cell_type": "code",
   "execution_count": null,
   "metadata": {},
   "outputs": [],
   "source": [
    "# PCA\n",
    "from sklearn.decomposition import PCA\n",
    "\n",
    "pca = PCA(n_components = 10)\n",
    "pca.fit(x)\n",
    "\n",
    "y_variance = pca.explained_variance_ratio_\n",
    "\n",
    "from sklearn.model_selection import cross_val_score\n",
    "import time\n",
    "n = 1\n",
    "scores = [] # Scores array \n",
    "times = [] # Times array\n",
    "\n",
    "# Loop to add a score and the execution time of the PCA with n components\n",
    "while n < len(data.columns):\n",
    "    start = time.time()\n",
    "    pca = PCA(n_components = n)\n",
    "    pca.fit(x)\n",
    "    y_variance = pca.explained_variance_ratio_\n",
    "    x_pca = pca.transform(x)\n",
    "    rfc = RandomForestClassifier(n_estimators=100)\n",
    "    scores.append(cross_val_score(rfc, x_pca, y, cv=5).mean())\n",
    "    end = time.time()\n",
    "    totaltime = end-start\n",
    "    times.append(totaltime)\n",
    "    n += 1\n",
    "    \n",
    "plt.figure(figsize=(8,6))\n",
    "plt.title(\"Accuracy according to n_components\")\n",
    "sns.barplot(x=[i for i in range(1, 21)], y=[round(n*100, 2) for n in scores]).set(xlabel=\"n_components\", ylabel=\"Accuracy\")"
   ]
  },
  {
   "cell_type": "markdown",
   "metadata": {},
   "source": [
    "# Neural Network"
   ]
  },
  {
   "cell_type": "code",
   "execution_count": null,
   "metadata": {},
   "outputs": [],
   "source": [
    "# Neural Network\n",
    "\n",
    "import keras\n",
    "import tensorflow as tf\n",
    "from keras.models import Sequential\n",
    "from keras.layers import Dense\n",
    "from keras import optimizers\n",
    "\n",
    "# We added 3 layers of 32 neurons each with a SoftSign activation\n",
    "model = Sequential()\n",
    "model.add(Dense(32, activation='softsign', input_dim=20))\n",
    "model.add(Dense(32, activation='softsign'))\n",
    "model.add(Dense(32, activation='softsign'))\n",
    "model.add(Dense(1, activation='sigmoid'))\n",
    "model.compile(optimizer='rmsprop',\n",
    "              loss='binary_crossentropy',\n",
    "              metrics=['accuracy'])\n",
    "\n",
    "df = pd.read_csv(\"dataSet.csv\")\n",
    "X = df.drop('label', axis=1).values\n",
    "df.replace('male',0, inplace=True)\n",
    "df.replace('female',1, inplace=True)\n",
    "c = df['label'].values\n",
    "\n",
    "model.fit(x,c, epochs=100, batch_size=10, validation_data=(x_test, y_test))"
   ]
  },
  {
   "cell_type": "markdown",
   "metadata": {},
   "source": [
    "Now let's make a prediction with the trained neural network:"
   ]
  },
  {
   "cell_type": "code",
   "execution_count": null,
   "metadata": {},
   "outputs": [],
   "source": [
    "# We insert a male data array\n",
    "Xnew = np.array([[0.1984445, 0.06684052, 0.2157356, 0.1375283, 0.264536, 0.1270077, 3.38914, 20.50335, 0.8929154, 0.3376926, 0.1200362, 0.1984445, 0.1396227, 0.04349112, 0.2791139, 0.4190832, 0, 5.081836, 5.081836, 0.07727807]])\n",
    "ynew = model.predict_classes(Xnew)\n",
    "\n",
    "print(\"Male\" if ynew[0]==0 else \"Female\")"
   ]
  },
  {
   "cell_type": "markdown",
   "metadata": {},
   "source": [
    "# Clustering (KMEANS)"
   ]
  },
  {
   "cell_type": "code",
   "execution_count": null,
   "metadata": {},
   "outputs": [],
   "source": [
    "from sklearn.cluster import KMeans\n",
    "\n",
    "kmeans = KMeans(n_clusters=2)\n",
    "kmeans.fit(df[['meanfun','IQR']])\n",
    "\n",
    "kmeans.labels_\n",
    "\n",
    "kmeans.inertia_\n",
    "\n",
    "df['KMEANS'] = kmeans.labels_\n",
    "\n",
    "# KMeans vs Results\n",
    "plt.figure(figsize=(50,8))\n",
    "plt.grid(False)\n",
    "plt.style.use(\"dark_background\")\n",
    "plt.title(\"KMEANS vs Label\", fontsize=28)\n",
    "plt.step([i for i in range(0,3168)] ,df['KMEANS'])\n",
    "plt.step([i for i in range(0,3168)] ,df['label'], lw=10, c='r')"
   ]
  }
 ],
 "metadata": {
  "kernelspec": {
   "display_name": "Python 3",
   "language": "python",
   "name": "python3"
  },
  "language_info": {
   "codemirror_mode": {
    "name": "ipython",
    "version": 3
   },
   "file_extension": ".py",
   "mimetype": "text/x-python",
   "name": "python",
   "nbconvert_exporter": "python",
   "pygments_lexer": "ipython3",
   "version": "3.7.2"
  }
 },
 "nbformat": 4,
 "nbformat_minor": 2
}
