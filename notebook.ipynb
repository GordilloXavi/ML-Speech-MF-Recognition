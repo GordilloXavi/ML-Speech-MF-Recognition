{
 "cells": [
  {
   "cell_type": "markdown",
   "metadata": {},
   "source": [
    "# Machine Learning project: gender recognition from speech"
   ]
  },
  {
   "cell_type": "markdown",
   "metadata": {},
   "source": [
    "The following acoustic properties of each voice are measured:\n",
    "- **duration**: length of signal <span style=\"color:red\">**NOT USED!!**</span>\n",
    "- **meanfreq**: mean frequency (in kHz)\n",
    "- **sd**: standard deviation of frequency\n",
    "- **median**: median frequency (in kHz)\n",
    "- **Q25**: first quantile (in kHz)\n",
    "- **Q75**: third quantile (in kHz)\n",
    "- **IQR**: interquantile range (in kHz)\n",
    "- **skew**: skewness (see note in specprop description)\n",
    "- **kurt**: kurtosis (see note in specprop description)\n",
    "- **sp.ent**: spectral entropy\n",
    "- **sfm**: spectral flatness\n",
    "- **mode**: mode frequency\n",
    "- **centroid**: frequency centroid (see specprop)\n",
    "- **peakf**: peak frequency (frequency with highest energy) <span style=\"color:red\">**NOT USED!!**</span>\n",
    "- **meanfun**: average of fundamental frequency measured across acoustic signal\n",
    "- **minfun**: minimum fundamental frequency measured across acoustic signal\n",
    "- **maxfun**: maximum fundamental frequency measured across acoustic signal\n",
    "- **meandom**: average of dominant frequency measured across acoustic signal\n",
    "- **mindom**: minimum of dominant frequency measured across acoustic signal\n",
    "- **maxdom**: maximum of dominant frequency measured across acoustic signal\n",
    "- **dfrange**: range of dominant frequency measured across acoustic signal\n",
    "- **modindx**: modulation index. Calculated as the accumulated absolute difference between adjacent measurements of fundamental frequencies divided by the frequency range"
   ]
  },
  {
   "cell_type": "code",
   "execution_count": null,
   "metadata": {},
   "outputs": [],
   "source": [
    "# pandas\n",
    "import pandas as pd\n",
    "pd.options.display.max_columns = None\n",
    "\n",
    "# sklearn\n",
    "from sklearn.ensemble import RandomForestClassifier\n",
    "from sklearn.model_selection import cross_val_score\n",
    "from sklearn.model_selection import train_test_split\n",
    "\n",
    "# pyplot\n",
    "import matplotlib.pyplot as plt\n",
    "\n",
    "# seaborn\n",
    "import seaborn as sns"
   ]
  },
  {
   "cell_type": "code",
   "execution_count": null,
   "metadata": {},
   "outputs": [],
   "source": [
    "# load data and create data frame\n",
    "data = pd.read_csv('dataSet.csv')\n",
    "df = pd.DataFrame(data)"
   ]
  },
  {
   "cell_type": "code",
   "execution_count": null,
   "metadata": {},
   "outputs": [],
   "source": [
    "# transform column label into numbers\n",
    "#     - male:   0\n",
    "#     - female: 1\n",
    "df.replace('male', 0, inplace=True)\n",
    "df.replace('female', 1, inplace=True)"
   ]
  },
  {
   "cell_type": "code",
   "execution_count": null,
   "metadata": {},
   "outputs": [],
   "source": [
    "# display data frame info\n",
    "print(df.info())"
   ]
  },
  {
   "cell_type": "code",
   "execution_count": null,
   "metadata": {},
   "outputs": [],
   "source": [
    "# display data frame\n",
    "df.head()"
   ]
  },
  {
   "cell_type": "code",
   "execution_count": null,
   "metadata": {},
   "outputs": [],
   "source": [
    "# prepare training values:\n",
    "#     - x: what we know\n",
    "#     - y: what we want to know\n",
    "x = df.drop('label', axis=1)\n",
    "y = df['label']\n",
    "x_train, x_test, y_train, y_test = train_test_split(x, y, test_size=0.33)"
   ]
  },
  {
   "cell_type": "code",
   "execution_count": null,
   "metadata": {},
   "outputs": [],
   "source": [
    "# create random fores classifier\n",
    "rfc = RandomForestClassifier(n_estimators=100)"
   ]
  },
  {
   "cell_type": "code",
   "execution_count": null,
   "metadata": {},
   "outputs": [],
   "source": [
    "# train rfc\n",
    "rfc.fit(x_train, y_train)\n",
    "\n",
    "# print score\n",
    "score = rfc.score(x_test, y_test)\n",
    "print('{}%'.format(round(score*100, 2)))"
   ]
  },
  {
   "cell_type": "code",
   "execution_count": null,
   "metadata": {},
   "outputs": [],
   "source": [
    "# make predictions\n",
    "prediction = rfc.predict([[\n",
    "    0.2022728,\n",
    "    0.04060666,\n",
    "    0.2129694,\n",
    "    0.1821243,\n",
    "    0.227241,\n",
    "    0.04511674,\n",
    "    3.040879,\n",
    "    17.07277,\n",
    "    0.8827420,\n",
    "    0.2635666,\n",
    "    0.1200658,\n",
    "    0.2022728,\n",
    "    0.1497998,\n",
    "    0.04319295,\n",
    "    0.2791139,\n",
    "    0.3374789,\n",
    "    0,\n",
    "    1.593457,\n",
    "    1.593457,\n",
    "    0.11383929\n",
    "]])\n",
    "\n",
    "print(\"M\" if prediction[0]==0 else \"F\")"
   ]
  },
  {
   "cell_type": "code",
   "execution_count": null,
   "metadata": {},
   "outputs": [],
   "source": [
    "plt.figure(figsize=(14,12))\n",
    "plt.title('Correlation Matrix')\n",
    "sns.heatmap(df.corr(), linewidths=0.1, annot=True)"
   ]
  }
 ],
 "metadata": {
  "kernelspec": {
   "display_name": "Python 3",
   "language": "python",
   "name": "python3"
  },
  "language_info": {
   "codemirror_mode": {
    "name": "ipython",
    "version": 3
   },
   "file_extension": ".py",
   "mimetype": "text/x-python",
   "name": "python",
   "nbconvert_exporter": "python",
   "pygments_lexer": "ipython3",
   "version": "3.7.2"
  }
 },
 "nbformat": 4,
 "nbformat_minor": 2
}
